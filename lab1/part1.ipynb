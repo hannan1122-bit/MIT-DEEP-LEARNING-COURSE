{
 "cells": [
  {
   "cell_type": "code",
   "execution_count": 2,
   "metadata": {},
   "outputs": [],
   "source": [
    "import torch\n",
    "import numpy as np\n",
    "import matplotlib.pyplot as plt\n",
    "import torch.nn as nn"
   ]
  },
  {
   "cell_type": "code",
   "execution_count": 5,
   "metadata": {},
   "outputs": [
    {
     "name": "stdout",
     "output_type": "stream",
     "text": [
      "integer is 0 and its tensor is 1234 for 1234\n",
      "integer is 0 and its tensor is 3.1517210006713867 for 3.151721\n"
     ]
    }
   ],
   "source": [
    "integer=torch.tensor(1234)\n",
    "decimal=torch.tensor(3.151721)\n",
    "\n",
    "print(f\"integer is {integer.ndim} and its tensor is {integer} for 1234\")\n",
    "print(f\"integer is {decimal.ndim} and its tensor is {decimal} for 3.151721\")"
   ]
  },
  {
   "cell_type": "code",
   "execution_count": 10,
   "metadata": {},
   "outputs": [
    {
     "name": "stdout",
     "output_type": "stream",
     "text": [
      "dimension of fibonacci is : 2 and shape is torch.Size([2, 5])\n",
      "dimension of range(100) is : 1 and shape is torch.Size([100])\n"
     ]
    }
   ],
   "source": [
    "hundres_numbers = torch.tensor(range(100))\n",
    "fibonacchi =torch.tensor([[1,2,3,4,5],[6,7,8,9,20]])\n",
    "# print(range(10))\n",
    "\n",
    "print(f\"dimension of fibonacci is : {fibonacchi.ndim} and shape is {fibonacchi.shape}\")\n",
    "print(f\"dimension of range(100) is : {hundres_numbers.ndim} and shape is {hundres_numbers.shape}\")"
   ]
  },
  {
   "cell_type": "markdown",
   "metadata": {},
   "source": [
    "assert condition, \"this is the error\"  // in case of error/condition flase error wll display and line stops "
   ]
  },
  {
   "cell_type": "code",
   "execution_count": 18,
   "metadata": {},
   "outputs": [
    {
     "name": "stdout",
     "output_type": "stream",
     "text": [
      "program continues\n"
     ]
    }
   ],
   "source": [
    "two_d = torch.tensor([[1,2,3],[4,5,6]])\n",
    "\n",
    "assert isinstance(two_d , torch.Tensor),\"its not a torch tensor\"\n",
    "assert two_d.ndim==2,\"its not two dimentional\"\n",
    "\n",
    "print(\"program continues\")"
   ]
  },
  {
   "cell_type": "code",
   "execution_count": 22,
   "metadata": {},
   "outputs": [
    {
     "name": "stdout",
     "output_type": "stream",
     "text": [
      "c is : 54 and b is : 54 and e is :108\n"
     ]
    }
   ],
   "source": [
    "a=torch.tensor(20)\n",
    "b=torch.tensor(34)\n",
    "\n",
    "c=a+b\n",
    "d=torch.add(a,b)\n",
    "e=c+d\n",
    "print(f\"c is : {c} and b is : {d} and e is :{e}\")"
   ]
  },
  {
   "cell_type": "code",
   "execution_count": 24,
   "metadata": {},
   "outputs": [],
   "source": [
    "# my first own neural network\n",
    "\n",
    "class MyDenseNetwork(torch.nn.Module):\n",
    "    def __init__(self, no_inputs,no_outputs):\n",
    "        super().__init__()\n",
    "        self.W=torch.nn.Parameter(torch.randn(no_inputs,no_outputs))\n",
    "        self.b=torch.nn.Parameter(torch.randn(no_outputs))\n",
    "\n",
    "    def forward(self,x):\n",
    "        z=torch.matmul(x,self.W) +self.b\n",
    "        y=torch.sigmoid(z)\n",
    "\n",
    "        return y"
   ]
  },
  {
   "cell_type": "code",
   "execution_count": 31,
   "metadata": {},
   "outputs": [
    {
     "name": "stdout",
     "output_type": "stream",
     "text": [
      "output is : tensor([[1., 0.],\n",
      "        [1., 0.]], grad_fn=<SigmoidBackward0>) and shape is torch.Size([2, 2]) and dimentions are : 2\n"
     ]
    }
   ],
   "source": [
    "no_input=3\n",
    "no_of_output=2\n",
    "input=torch.tensor([[10,500,1],[250,500,3]], dtype=torch.float32)  # in my function making above cell : bydefault dtypr of bias and w is float32 and here bydefault float64\n",
    "layer=MyDenseNetwork(no_input,no_of_output)\n",
    "\n",
    "y=layer(input)\n",
    "print(f\"output is : {y} and shape is {y.shape} and dimentions are : {y.ndim}\")"
   ]
  },
  {
   "cell_type": "markdown",
   "metadata": {},
   "source": [
    "in my class i have already created nn.linear and nn.sigmoid which i can use predefined"
   ]
  },
  {
   "cell_type": "code",
   "execution_count": 34,
   "metadata": {},
   "outputs": [
    {
     "name": "stdout",
     "output_type": "stream",
     "text": [
      "output is : tensor([[1.0000, 1.0000],\n",
      "        [1.0000, 0.0000]], grad_fn=<SigmoidBackward0>) and shape is torch.Size([2, 2]) and dimentions are : 2\n"
     ]
    }
   ],
   "source": [
    "no_input=3\n",
    "no_of_output=2\n",
    "input=torch.tensor([[10,500,1],[250,500,3]], dtype=torch.float32)\n",
    "model=nn.Sequential(\n",
    "    nn.Linear(no_input,no_of_output),\n",
    "    nn.Sigmoid()\n",
    ")\n",
    "y=model(input)\n",
    "print(f\"output is : {y} and shape is {y.shape} and dimentions are : {y.ndim}\")"
   ]
  },
  {
   "cell_type": "code",
   "execution_count": 36,
   "metadata": {},
   "outputs": [
    {
     "name": "stdout",
     "output_type": "stream",
     "text": [
      "dy_dx of y=x^2 at x=3.0 is:  tensor(6.)\n"
     ]
    }
   ],
   "source": [
    "x = torch.tensor(3.0, requires_grad=True)\n",
    "y = x ** 2\n",
    "y.backward()  # Compute the gradient\n",
    "\n",
    "dy_dx = x.grad\n",
    "print(\"dy_dx of y=x^2 at x=3.0 is: \", dy_dx)\n",
    "assert dy_dx == 6.0"
   ]
  },
  {
   "cell_type": "code",
   "execution_count": 41,
   "metadata": {},
   "outputs": [
    {
     "name": "stdout",
     "output_type": "stream",
     "text": [
      "First value of x is : -0.865527868270874\n",
      "3.999800443649292\n"
     ]
    },
    {
     "data": {
      "image/png": "[encoded data removed]",
      "text/plain": [
       "<Figure size 640x480 with 1 Axes>"
      ]
     },
     "metadata": {},
     "output_type": "display_data"
    }
   ],
   "source": [
    "x=torch.randn(1)\n",
    "print(f\"First value of x is : {x.item()}\")\n",
    "\n",
    "history=[]\n",
    "learning_rate=1e-2\n",
    "x_final=4\n",
    "\n",
    "for i in range(500):\n",
    "    x=torch.tensor([x],requires_grad=True)\n",
    "\n",
    "    loss=(x-x_final)**2\n",
    "    loss.backward()\n",
    "\n",
    "    x=x.item()-learning_rate*x.grad\n",
    "    history.append(x.item())\n",
    "print(history[499])\n",
    "\n",
    "plt.plot(history)\n",
    "plt.plot([0, 500], [x_final, x_final])\n",
    "plt.legend(('Predicted', 'True'))\n",
    "plt.xlabel('Iteration')\n",
    "plt.ylabel('x value')\n",
    "plt.show()"
   ]
  }
 ],
 "metadata": {
  "kernelspec": {
   "display_name": "Python (dl-env)",
   "language": "python",
   "name": "dl-env"
  },
  "language_info": {
   "codemirror_mode": {
    "name": "ipython",
    "version": 3
   },
   "file_extension": ".py",
   "mimetype": "text/x-python",
   "name": "python",
   "nbconvert_exporter": "python",
   "pygments_lexer": "ipython3",
   "version": "3.12.3"
  }
 },
 "nbformat": 4,
 "nbformat_minor": 2
}
